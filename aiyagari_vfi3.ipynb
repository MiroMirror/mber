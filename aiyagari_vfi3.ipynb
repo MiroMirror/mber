def aiyagari_vfi3(m, K):
    """
    ------------------------------------------------------------
    === Computes Aggregate Savings given Aggregate Capital K ===
    ------------------------------------------------------------
    <input>
    ・m: model structure that contains parameters
    ・K: aggregate capital
    <output>
    ・meank: aggregate savings given interest rate
    ・kfun:  policy function
    ・gridk: asset grid(state)
    """

    r = m.alpha * ((K / m.labor) ** (m.alpha - 1)) - m.delta
    wage = (1 - m.alpha) * ((m.alpha / (r + m.delta)) ** m.alpha) ** (1 / (1 - m.alpha))

    # borrowing limit
    if r <= 0.0:
        phi = m.b
    else:
        phi = min(m.b, wage * m.s[0] / r)

    # -phi i s borrowing limit, b is adhoc
    # the second term is natural limit

    # capital grid(need define in each iteration since it depends on r/phi)\
    Nk = 300                    # grid size for STATE
    maxK = 20                   # maximum value of capital grid
    minK = -phi                 # borrowing constraint
    curvK = 2.0

    gridk = np.zeros(Nk)
    gridk[0] = minK
    for kc in range(1, Nk):
        gridk[kc] = gridk[0] + (maxK - minK) * ((kc - 1) / (Nk - 1)) ** curvK

    Nk2 = 800                   #  grid size for CONTROL
    gridk2 = np.zeros(Nk2)
    gridk2[0] = minK
    for kc in range(1, Nk2):
        gridk2[kc] = gridk2[0] + (maxK - minK) * ((kc - 1) / (Nk2 - 1)) ** curvK

    #####################################################
    # SPLIT GRID in gridk2 TO NEARBY TWO GRIDS IN gridk #
    #####################################################

    # calculate node and weight for interpolation
    kc1vec = np.zeros(Nk2, dtype=int)
    kc2vec = np.zeros(Nk2, dtype=int)

    prk1vec = np.zeros(Nk2)
    prk2vec = np.zeros(Nk2)

    for kc in range(Nk2):

        xx = gridk2[kc]

        if xx >= gridk[-1]:

            kc1vec[kc] = Nk-1
            kc2vec[kc] = Nk-1

            prk1vec[kc] = 1.0
            prk2vec[kc] = 0.0

        else:

            ind = 0

            while ind < Nk - 1 and xx > gridk[ind + 1]:
                ind += 1
                if ind + 1 >= Nk:
                    break
            kc1vec[kc] = ind

            if ind < Nk - 1:

                kc2vec[kc] = ind + 1
                dK = (xx - gridk[ind]) / (gridk[ind + 1] - gridk[ind])
                prk1vec[kc] = 1.0 - dK
                prk2vec[kc] = dK

            else:

                kc2vec[kc] = ind
                prk1vec[kc] = 1.0
                prk2vec[kc] = 0.0


    # Initialize variables
    Nl = m.Nl
    kfunG = np.zeros((Nl, Nk))        # new index of policy function
    kfun = np.zeros_like(kfunG)       # policy function
    v = np.zeros((Nl, Nk))            # old value function
    tv = np.zeros_like(kfunG)         # new value function
    kfunG_old = np.zeros((Nl, Nk))    # old policy function

    err = 10          # error between old policy index and new policy index
    maxiter = 2000    # maximum number of iteration
    iter = 1          # iteration counter

    while (err > 0) and (iter < maxiter):

        # tabulate the utility function such that for zero or negative
        # consumption utility remains a large negative number so that
        # such values will never be chosen as utility maximizing

        for kc in range(Nk):  # k(STATE)
            for lc in range(Nl):  # l

                kccmax = Nk2    # maximum index that satisfies c>0.0
                vtemp = -1000000 * np.ones(Nk2)    # initizalization

                for kcc in range(Nk2):  # k'(CONTROL)

                    # amount of consumption given (k, l, k')
                    cons = m.s[lc]*wage + (1+r)*gridk[kc] - gridk2[kcc]

                    if cons <= 0.0:
                        # penalty for c<0.0
                        # once c becomes negative, vtemp will not be updated(=large negative number)
                        kccmax = kcc
                        break

                    util = (cons ** (1 - mu)) / (1 - mu)

                    # interpolation of next period's value function
                    # find node and weight for gridk2 (evaluating gridk2 in gridk)
                    kcc1 = int(kc1vec[kcc])
                    kcc2 = int(kc2vec[kcc])

                    vpr = 0.0  # next period's value function given(l, k')
                    for lcc in range(Nl):  # expectation of next period's value function
                        vpr += m.prob[lc, lcc] * (prk1vec[kcc]*v[lcc, kcc1] + prk2vec[kcc]*v[lcc, kcc2])
                    vtemp[kcc] = util + m.beta*vpr


                # find k' that solves bellman equation
                t2 = np.argmax(vtemp[:kccmax])  # subject to k' achieves c>0
                t1 = vtemp[t2]
                tv[lc, kc] = t1
                kfunG[lc, kc] = t2
                kfun[lc, kc] = gridk2[t2]

        v = tv.copy()
        err = np.max(np.abs(kfunG - kfunG_old))
        kfunG_old = kfunG.copy()
        iter += 1

    # if iter == maxiter:
        # print(f"WARNING!! VFI: iteration reached max: iter={iter}, err={err}")

    # Calculate stationary distribution
    mea0 = np.ones((Nl, Nk)) / (Nl*Nk) # old distribution
    mea1 = np.zeros((Nl, Nk))  # new distribution
    err = 1
    errTol = 0.00001
    maxiter = 2000
    iter = 1

    while (err > errTol) and (iter < maxiter):

        for kc in range(Nk):  # k
            for lc in range(Nl):  # l

                kcc = int(kfunG[lc, kc])  # index of k'(k, l)

                # interpolation of policy function
                # split to two grids in gridk
                kcc1 = int(kc1vec[kcc])
                kcc2 = int(kc2vec[kcc])

                for lcc in range(Nl):
                    mea1[lcc, kcc1] += m.prob[lc, lcc] * prk1vec[kcc] * mea0[lc, kc]
                    mea1[lcc, kcc2] += m.prob[lc, lcc] * prk2vec[kcc] * mea0[lc, kc]

        err = np.max(np.abs(mea1 - mea0))
        mea0 = mea1.copy()
        iter += 1
        mea1 = np.zeros((Nl, Nk))

    if iter == maxiter:
        print(f"WARNING!! INVARIANT DIST: iteration reached max: iter={iter}, err={err}")

    meank = np.sum(mea0 * kfun)
    return meank, kfun, gridk
