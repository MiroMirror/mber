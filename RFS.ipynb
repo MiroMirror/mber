{
 "cells": [
  {
   "cell_type": "code",
   "execution_count": 1,
   "metadata": {
    "id": "0H5yK6DtNn27",
    "tags": []
   },
   "outputs": [],
   "source": [
    "import pandas as pd\n",
    "import matplotlib.pyplot as plt\n",
    "\n",
    "from sklearn.feature_selection import SequentialFeatureSelector, VarianceThreshold, RFE, RFECV\n",
    "from mlxtend.feature_selection import ExhaustiveFeatureSelector as EFS\n",
    "from sklearn.linear_model import HuberRegressor\n",
    "import seaborn as sns\n",
    "\n",
    "import warnings\n",
    "warnings.filterwarnings('ignore')"
   ]
  },
  {
   "cell_type": "code",
   "execution_count": 2,
   "metadata": {
    "colab": {
     "base_uri": "https://localhost:8080/"
    },
    "id": "D0R0AEeMNmjx",
    "outputId": "5a60b735-816d-4a41-f4db-5eb37384c770",
    "tags": []
   },
   "outputs": [
    {
     "name": "stdout",
     "output_type": "stream",
     "text": [
      "<class 'pandas.core.frame.DataFrame'>\n",
      "RangeIndex: 776 entries, 0 to 775\n",
      "Data columns (total 59 columns):\n",
      " #   Column                         Non-Null Count  Dtype  \n",
      "---  ------                         --------------  -----  \n",
      " 0   Unnamed: 0                     776 non-null    int64  \n",
      " 1   CountryofOrigin_Guatemala      776 non-null    float64\n",
      " 2   CountryofOrigin_Colombia       776 non-null    float64\n",
      " 3   CountryofOrigin_Kenya          776 non-null    float64\n",
      " 4   CountryofOrigin_Taiwan         776 non-null    float64\n",
      " 5   CountryofOrigin_Other          776 non-null    float64\n",
      " 6   CountryofOrigin_Nicaragua      776 non-null    float64\n",
      " 7   CountryofOrigin_Honduras       776 non-null    float64\n",
      " 8   CountryofOrigin_Tanzania       776 non-null    float64\n",
      " 9   CountryofOrigin_Mexico         776 non-null    float64\n",
      " 10  CountryofOrigin_Brazil         776 non-null    float64\n",
      " 11  CountryofOrigin_United States  776 non-null    float64\n",
      " 12  CountryofOrigin_Costa Rica     776 non-null    float64\n",
      " 13  CountryofOrigin_Thailand       776 non-null    float64\n",
      " 14  CountryofOrigin_El Salvador    776 non-null    float64\n",
      " 15  CountryofOrigin_Ethiopia       776 non-null    float64\n",
      " 16  CountryofOrigin_Uganda         776 non-null    float64\n",
      " 17  CountryofOrigin_Indonesia      776 non-null    float64\n",
      " 18  CountryofOrigin_China          776 non-null    float64\n",
      " 19  CountryofOrigin_Vietnam        776 non-null    float64\n",
      " 20  CountryofOrigin_Myanmar        776 non-null    float64\n",
      " 21  CountryofOrigin_Malawi         776 non-null    float64\n",
      " 22  CountryofOrigin_India          776 non-null    float64\n",
      " 23  CountryofOrigin_Peru           776 non-null    float64\n",
      " 24  Mill                           776 non-null    float64\n",
      " 25  Variety_Bourbon                776 non-null    float64\n",
      " 26  Variety_Various                776 non-null    float64\n",
      " 27  Variety_Caturra                776 non-null    float64\n",
      " 28  Variety_SL28                   776 non-null    float64\n",
      " 29  Variety_Typica                 776 non-null    float64\n",
      " 30  Variety_Catuai                 776 non-null    float64\n",
      " 31  Variety_Mundo Novo             776 non-null    float64\n",
      " 32  Variety_Catimor                776 non-null    float64\n",
      " 33  Variety_Pacamara               776 non-null    float64\n",
      " 34  Variety_Yellow Bourbon         776 non-null    float64\n",
      " 35  Variety_SL14                   776 non-null    float64\n",
      " 36  Variety_Pacas                  776 non-null    float64\n",
      " 37  Variety_Gesha                  776 non-null    float64\n",
      " 38  Variety_SL34                   776 non-null    float64\n",
      " 39  ProcessingMethod_Washed        776 non-null    float64\n",
      " 40  ProcessingMethod_Other         776 non-null    float64\n",
      " 41  ProcessingMethod_Natural       776 non-null    float64\n",
      " 42  ProcessingMethod_Honey         776 non-null    float64\n",
      " 43  altitude_mean_meters           776 non-null    float64\n",
      " 44  Aroma                          776 non-null    float64\n",
      " 45  Flavor                         776 non-null    float64\n",
      " 46  Aftertaste                     776 non-null    float64\n",
      " 47  Acidity                        776 non-null    float64\n",
      " 48  Body                           776 non-null    float64\n",
      " 49  Balance                        776 non-null    float64\n",
      " 50  Uniformity                     776 non-null    float64\n",
      " 51  CleanCup                       776 non-null    float64\n",
      " 52  Sweetness                      776 non-null    float64\n",
      " 53  Moisture                       776 non-null    float64\n",
      " 54  Color_Green                    776 non-null    float64\n",
      " 55  Color_Blue-Green               776 non-null    float64\n",
      " 56  Color_Yellow                   776 non-null    float64\n",
      " 57  GreenBeansGrade                776 non-null    float64\n",
      " 58  TotalCupPoints                 776 non-null    float64\n",
      "dtypes: float64(58), int64(1)\n",
      "memory usage: 357.8 KB\n"
     ]
    }
   ],
   "source": [
    "df =pd.read_csv(\"df_s.csv\")\n",
    "\n",
    "df.info()"
   ]
  },
  {
   "cell_type": "code",
   "execution_count": 3,
   "metadata": {
    "colab": {
     "base_uri": "https://localhost:8080/"
    },
    "id": "3CyoJxY9yquD",
    "outputId": "0caf2226-d918-4e31-eb63-b90bc71678c5",
    "tags": []
   },
   "outputs": [
    {
     "name": "stdout",
     "output_type": "stream",
     "text": [
      "<class 'pandas.core.frame.DataFrame'>\n",
      "RangeIndex: 776 entries, 0 to 775\n",
      "Data columns (total 59 columns):\n",
      " #   Column                         Non-Null Count  Dtype  \n",
      "---  ------                         --------------  -----  \n",
      " 0   Unnamed: 0                     776 non-null    float64\n",
      " 1   CountryofOrigin_Guatemala      776 non-null    float64\n",
      " 2   CountryofOrigin_Colombia       776 non-null    float64\n",
      " 3   CountryofOrigin_Kenya          776 non-null    float64\n",
      " 4   CountryofOrigin_Taiwan         776 non-null    float64\n",
      " 5   CountryofOrigin_Other          776 non-null    float64\n",
      " 6   CountryofOrigin_Nicaragua      776 non-null    float64\n",
      " 7   CountryofOrigin_Honduras       776 non-null    float64\n",
      " 8   CountryofOrigin_Tanzania       776 non-null    float64\n",
      " 9   CountryofOrigin_Mexico         776 non-null    float64\n",
      " 10  CountryofOrigin_Brazil         776 non-null    float64\n",
      " 11  CountryofOrigin_United States  776 non-null    float64\n",
      " 12  CountryofOrigin_Costa Rica     776 non-null    float64\n",
      " 13  CountryofOrigin_Thailand       776 non-null    float64\n",
      " 14  CountryofOrigin_El Salvador    776 non-null    float64\n",
      " 15  CountryofOrigin_Ethiopia       776 non-null    float64\n",
      " 16  CountryofOrigin_Uganda         776 non-null    float64\n",
      " 17  CountryofOrigin_Indonesia      776 non-null    float64\n",
      " 18  CountryofOrigin_China          776 non-null    float64\n",
      " 19  CountryofOrigin_Vietnam        776 non-null    float64\n",
      " 20  CountryofOrigin_Myanmar        776 non-null    float64\n",
      " 21  CountryofOrigin_Malawi         776 non-null    float64\n",
      " 22  CountryofOrigin_India          776 non-null    float64\n",
      " 23  CountryofOrigin_Peru           776 non-null    float64\n",
      " 24  Mill                           776 non-null    float64\n",
      " 25  Variety_Bourbon                776 non-null    float64\n",
      " 26  Variety_Various                776 non-null    float64\n",
      " 27  Variety_Caturra                776 non-null    float64\n",
      " 28  Variety_SL28                   776 non-null    float64\n",
      " 29  Variety_Typica                 776 non-null    float64\n",
      " 30  Variety_Catuai                 776 non-null    float64\n",
      " 31  Variety_Mundo Novo             776 non-null    float64\n",
      " 32  Variety_Catimor                776 non-null    float64\n",
      " 33  Variety_Pacamara               776 non-null    float64\n",
      " 34  Variety_Yellow Bourbon         776 non-null    float64\n",
      " 35  Variety_SL14                   776 non-null    float64\n",
      " 36  Variety_Pacas                  776 non-null    float64\n",
      " 37  Variety_Gesha                  776 non-null    float64\n",
      " 38  Variety_SL34                   776 non-null    float64\n",
      " 39  ProcessingMethod_Washed        776 non-null    float64\n",
      " 40  ProcessingMethod_Other         776 non-null    float64\n",
      " 41  ProcessingMethod_Natural       776 non-null    float64\n",
      " 42  ProcessingMethod_Honey         776 non-null    float64\n",
      " 43  altitude_mean_meters           776 non-null    float64\n",
      " 44  Aroma                          776 non-null    float64\n",
      " 45  Flavor                         776 non-null    float64\n",
      " 46  Aftertaste                     776 non-null    float64\n",
      " 47  Acidity                        776 non-null    float64\n",
      " 48  Body                           776 non-null    float64\n",
      " 49  Balance                        776 non-null    float64\n",
      " 50  Uniformity                     776 non-null    float64\n",
      " 51  CleanCup                       776 non-null    float64\n",
      " 52  Sweetness                      776 non-null    float64\n",
      " 53  Moisture                       776 non-null    float64\n",
      " 54  Color_Green                    776 non-null    float64\n",
      " 55  Color_Blue-Green               776 non-null    float64\n",
      " 56  Color_Yellow                   776 non-null    float64\n",
      " 57  GreenBeansGrade                776 non-null    float64\n",
      " 58  TotalCupPoints                 776 non-null    float64\n",
      "dtypes: float64(59)\n",
      "memory usage: 357.8 KB\n"
     ]
    }
   ],
   "source": [
    "sel = VarianceThreshold()\n",
    "X = pd.DataFrame(sel.fit_transform(df), columns=df.columns.values[sel.get_support()])\n",
    "X.info()"
   ]
  },
  {
   "cell_type": "code",
   "execution_count": 4,
   "metadata": {
    "colab": {
     "base_uri": "https://localhost:8080/"
    },
    "id": "vyMqto9vP6yl",
    "outputId": "d6b3cf30-9ab8-429b-8d09-fa014245fb82",
    "tags": []
   },
   "outputs": [
    {
     "name": "stdout",
     "output_type": "stream",
     "text": [
      "<class 'pandas.core.frame.DataFrame'>\n",
      "RangeIndex: 776 entries, 0 to 775\n",
      "Data columns (total 58 columns):\n",
      " #   Column                         Non-Null Count  Dtype  \n",
      "---  ------                         --------------  -----  \n",
      " 0   CountryofOrigin_Guatemala      776 non-null    float64\n",
      " 1   CountryofOrigin_Colombia       776 non-null    float64\n",
      " 2   CountryofOrigin_Kenya          776 non-null    float64\n",
      " 3   CountryofOrigin_Taiwan         776 non-null    float64\n",
      " 4   CountryofOrigin_Other          776 non-null    float64\n",
      " 5   CountryofOrigin_Nicaragua      776 non-null    float64\n",
      " 6   CountryofOrigin_Honduras       776 non-null    float64\n",
      " 7   CountryofOrigin_Tanzania       776 non-null    float64\n",
      " 8   CountryofOrigin_Mexico         776 non-null    float64\n",
      " 9   CountryofOrigin_Brazil         776 non-null    float64\n",
      " 10  CountryofOrigin_United States  776 non-null    float64\n",
      " 11  CountryofOrigin_Costa Rica     776 non-null    float64\n",
      " 12  CountryofOrigin_Thailand       776 non-null    float64\n",
      " 13  CountryofOrigin_El Salvador    776 non-null    float64\n",
      " 14  CountryofOrigin_Ethiopia       776 non-null    float64\n",
      " 15  CountryofOrigin_Uganda         776 non-null    float64\n",
      " 16  CountryofOrigin_Indonesia      776 non-null    float64\n",
      " 17  CountryofOrigin_China          776 non-null    float64\n",
      " 18  CountryofOrigin_Vietnam        776 non-null    float64\n",
      " 19  CountryofOrigin_Myanmar        776 non-null    float64\n",
      " 20  CountryofOrigin_Malawi         776 non-null    float64\n",
      " 21  CountryofOrigin_India          776 non-null    float64\n",
      " 22  CountryofOrigin_Peru           776 non-null    float64\n",
      " 23  Mill                           776 non-null    float64\n",
      " 24  Variety_Bourbon                776 non-null    float64\n",
      " 25  Variety_Various                776 non-null    float64\n",
      " 26  Variety_Caturra                776 non-null    float64\n",
      " 27  Variety_SL28                   776 non-null    float64\n",
      " 28  Variety_Typica                 776 non-null    float64\n",
      " 29  Variety_Catuai                 776 non-null    float64\n",
      " 30  Variety_Mundo Novo             776 non-null    float64\n",
      " 31  Variety_Catimor                776 non-null    float64\n",
      " 32  Variety_Pacamara               776 non-null    float64\n",
      " 33  Variety_Yellow Bourbon         776 non-null    float64\n",
      " 34  Variety_SL14                   776 non-null    float64\n",
      " 35  Variety_Pacas                  776 non-null    float64\n",
      " 36  Variety_Gesha                  776 non-null    float64\n",
      " 37  Variety_SL34                   776 non-null    float64\n",
      " 38  ProcessingMethod_Washed        776 non-null    float64\n",
      " 39  ProcessingMethod_Other         776 non-null    float64\n",
      " 40  ProcessingMethod_Natural       776 non-null    float64\n",
      " 41  ProcessingMethod_Honey         776 non-null    float64\n",
      " 42  altitude_mean_meters           776 non-null    float64\n",
      " 43  Aroma                          776 non-null    float64\n",
      " 44  Flavor                         776 non-null    float64\n",
      " 45  Aftertaste                     776 non-null    float64\n",
      " 46  Acidity                        776 non-null    float64\n",
      " 47  Body                           776 non-null    float64\n",
      " 48  Balance                        776 non-null    float64\n",
      " 49  Uniformity                     776 non-null    float64\n",
      " 50  CleanCup                       776 non-null    float64\n",
      " 51  Sweetness                      776 non-null    float64\n",
      " 52  Moisture                       776 non-null    float64\n",
      " 53  Color_Green                    776 non-null    float64\n",
      " 54  Color_Blue-Green               776 non-null    float64\n",
      " 55  Color_Yellow                   776 non-null    float64\n",
      " 56  GreenBeansGrade                776 non-null    float64\n",
      " 57  TotalCupPoints                 776 non-null    float64\n",
      "dtypes: float64(58)\n",
      "memory usage: 351.8 KB\n"
     ]
    }
   ],
   "source": [
    "X3=X.drop(X.columns[0], axis=1)\n",
    "\n",
    "X3.info()"
   ]
  },
  {
   "cell_type": "code",
   "execution_count": 5,
   "metadata": {
    "id": "lgNYXmeUQJ1X",
    "tags": []
   },
   "outputs": [],
   "source": [
    "hr = HuberRegressor(epsilon=1.1, fit_intercept=False, max_iter = 3000)"
   ]
  },
  {
   "cell_type": "code",
   "execution_count": 6,
   "metadata": {
    "colab": {
     "base_uri": "https://localhost:8080/"
    },
    "id": "zI8614wdQR1G",
    "outputId": "39f6d9ca-958e-4f67-8cbb-1f816f81d9e5",
    "tags": []
   },
   "outputs": [
    {
     "name": "stdout",
     "output_type": "stream",
     "text": [
      "                               False: dropped\n",
      "CountryofOrigin_Guatemala               False\n",
      "CountryofOrigin_Colombia                 True\n",
      "CountryofOrigin_Kenya                   False\n",
      "CountryofOrigin_Taiwan                  False\n",
      "CountryofOrigin_Other                   False\n",
      "CountryofOrigin_Nicaragua               False\n",
      "CountryofOrigin_Honduras                False\n",
      "CountryofOrigin_Tanzania                False\n",
      "CountryofOrigin_Mexico                  False\n",
      "CountryofOrigin_Brazil                  False\n",
      "CountryofOrigin_United States           False\n",
      "CountryofOrigin_Costa Rica              False\n",
      "CountryofOrigin_Thailand                False\n",
      "CountryofOrigin_El Salvador             False\n",
      "CountryofOrigin_Ethiopia                False\n",
      "CountryofOrigin_Uganda                  False\n",
      "CountryofOrigin_Indonesia               False\n",
      "CountryofOrigin_China                   False\n",
      "CountryofOrigin_Vietnam                 False\n",
      "CountryofOrigin_Myanmar                 False\n",
      "CountryofOrigin_Malawi                  False\n",
      "CountryofOrigin_India                   False\n",
      "CountryofOrigin_Peru                    False\n",
      "Mill                                     True\n",
      "Variety_Bourbon                          True\n",
      "Variety_Various                         False\n",
      "Variety_Caturra                          True\n",
      "Variety_SL28                            False\n",
      "Variety_Typica                           True\n",
      "Variety_Catuai                          False\n",
      "Variety_Mundo Novo                      False\n",
      "Variety_Catimor                         False\n",
      "Variety_Pacamara                        False\n",
      "Variety_Yellow Bourbon                  False\n",
      "Variety_SL14                            False\n",
      "Variety_Pacas                           False\n",
      "Variety_Gesha                           False\n",
      "Variety_SL34                            False\n",
      "ProcessingMethod_Washed                 False\n",
      "ProcessingMethod_Other                  False\n",
      "ProcessingMethod_Natural                False\n",
      "ProcessingMethod_Honey                  False\n",
      "altitude_mean_meters                    False\n",
      "Aroma                                    True\n",
      "Flavor                                   True\n",
      "Aftertaste                              False\n",
      "Acidity                                  True\n",
      "Body                                     True\n",
      "Balance                                 False\n",
      "Uniformity                              False\n",
      "CleanCup                                False\n",
      "Sweetness                               False\n",
      "Moisture                                False\n",
      "Color_Green                             False\n",
      "Color_Blue-Green                        False\n",
      "Color_Yellow                            False\n",
      "GreenBeansGrade                         False\n",
      "TotalCupPoints                           True\n",
      "CPU times: total: 4min 2s\n",
      "Wall time: 4min 44s\n"
     ]
    }
   ],
   "source": [
    "%%time\n",
    "selector = SequentialFeatureSelector(hr, n_features_to_select=10, cv=10) #Backwardと共通関数で、Defaultがfoward\n",
    "\n",
    "X_new = pd.DataFrame(selector.fit_transform(X3, X3['TotalCupPoints']),\n",
    "                     columns=X3.columns.values[selector.get_support()])\n",
    "result = pd.DataFrame(selector.get_support(), index=X3.columns.values, columns=['False: dropped'])\n",
    "print(result)"
   ]
  },
  {
   "cell_type": "code",
   "execution_count": 7,
   "metadata": {
    "colab": {
     "base_uri": "https://localhost:8080/"
    },
    "id": "e2V95S9_Sahr",
    "outputId": "275e1d6e-e164-42a5-c8b9-61143b93ec86",
    "tags": []
   },
   "outputs": [
    {
     "name": "stdout",
     "output_type": "stream",
     "text": [
      "                               False: dropped\n",
      "CountryofOrigin_Guatemala               False\n",
      "CountryofOrigin_Colombia                False\n",
      "CountryofOrigin_Kenya                   False\n",
      "CountryofOrigin_Taiwan                  False\n",
      "CountryofOrigin_Other                   False\n",
      "CountryofOrigin_Nicaragua               False\n",
      "CountryofOrigin_Honduras                False\n",
      "CountryofOrigin_Tanzania                False\n",
      "CountryofOrigin_Mexico                  False\n",
      "CountryofOrigin_Brazil                  False\n",
      "CountryofOrigin_United States           False\n",
      "CountryofOrigin_Costa Rica               True\n",
      "CountryofOrigin_Thailand                False\n",
      "CountryofOrigin_El Salvador             False\n",
      "CountryofOrigin_Ethiopia                 True\n",
      "CountryofOrigin_Uganda                  False\n",
      "CountryofOrigin_Indonesia               False\n",
      "CountryofOrigin_China                   False\n",
      "CountryofOrigin_Vietnam                 False\n",
      "CountryofOrigin_Myanmar                 False\n",
      "CountryofOrigin_Malawi                  False\n",
      "CountryofOrigin_India                   False\n",
      "CountryofOrigin_Peru                    False\n",
      "Mill                                    False\n",
      "Variety_Bourbon                         False\n",
      "Variety_Various                          True\n",
      "Variety_Caturra                         False\n",
      "Variety_SL28                            False\n",
      "Variety_Typica                           True\n",
      "Variety_Catuai                           True\n",
      "Variety_Mundo Novo                      False\n",
      "Variety_Catimor                         False\n",
      "Variety_Pacamara                        False\n",
      "Variety_Yellow Bourbon                  False\n",
      "Variety_SL14                            False\n",
      "Variety_Pacas                           False\n",
      "Variety_Gesha                           False\n",
      "Variety_SL34                            False\n",
      "ProcessingMethod_Washed                  True\n",
      "ProcessingMethod_Other                   True\n",
      "ProcessingMethod_Natural                False\n",
      "ProcessingMethod_Honey                  False\n",
      "altitude_mean_meters                    False\n",
      "Aroma                                   False\n",
      "Flavor                                  False\n",
      "Aftertaste                              False\n",
      "Acidity                                 False\n",
      "Body                                    False\n",
      "Balance                                  True\n",
      "Uniformity                              False\n",
      "CleanCup                                False\n",
      "Sweetness                               False\n",
      "Moisture                                 True\n",
      "Color_Green                             False\n",
      "Color_Blue-Green                        False\n",
      "Color_Yellow                            False\n",
      "GreenBeansGrade                         False\n",
      "TotalCupPoints                           True\n",
      "CPU times: total: 2h 55min 36s\n",
      "Wall time: 3h 4min 33s\n"
     ]
    }
   ],
   "source": [
    "%%time\n",
    "selector = SequentialFeatureSelector(hr, n_features_to_select=10, direction='backward', cv=10) #Backwardと共通関数で、Defaultがfoward\n",
    "\n",
    "X_new = pd.DataFrame(selector.fit_transform(X3, X3['TotalCupPoints']),\n",
    "                     columns=X3.columns.values[selector.get_support()])\n",
    "result = pd.DataFrame(selector.get_support(), index=X3.columns.values, columns=['False: dropped'])\n",
    "print(result)"
   ]
  },
  {
   "cell_type": "code",
   "execution_count": 8,
   "metadata": {
    "colab": {
     "base_uri": "https://localhost:8080/"
    },
    "id": "YKdZ8TM0Jwnc",
    "outputId": "68ccd781-0876-4d1a-d3d7-dc580fc0e717",
    "tags": []
   },
   "outputs": [
    {
     "name": "stdout",
     "output_type": "stream",
     "text": [
      "[False False False False False False False False False False False  True\n",
      " False False  True False False False False False False False False False\n",
      " False  True False False  True  True False False False False False False\n",
      " False False  True  True False False False False False False False False\n",
      "  True False False False  True False False False False  True]\n",
      "10\n"
     ]
    }
   ],
   "source": [
    "print(selector.get_support())\n",
    "print(selector.n_features_to_select)"
   ]
  },
  {
   "cell_type": "code",
   "execution_count": 16,
   "metadata": {
    "colab": {
     "base_uri": "https://localhost:8080/"
    },
    "id": "DI5YaqSs48Pe",
    "outputId": "0a58d1b9-10f7-40ca-9ca8-34144743aee9",
    "tags": []
   },
   "outputs": [
    {
     "name": "stdout",
     "output_type": "stream",
     "text": [
      "                               False: dropped  ranking\n",
      "CountryofOrigin_Guatemala               False       30\n",
      "CountryofOrigin_Colombia                False       29\n",
      "CountryofOrigin_Kenya                   False       39\n",
      "CountryofOrigin_Taiwan                  False       18\n",
      "CountryofOrigin_Other                   False       20\n",
      "CountryofOrigin_Nicaragua               False        2\n",
      "CountryofOrigin_Honduras                False       33\n",
      "CountryofOrigin_Tanzania                False       42\n",
      "CountryofOrigin_Mexico                  False        8\n",
      "CountryofOrigin_Brazil                  False       32\n",
      "CountryofOrigin_United States           False       21\n",
      "CountryofOrigin_Costa Rica              False       19\n",
      "CountryofOrigin_Thailand                False       44\n",
      "CountryofOrigin_El Salvador             False       31\n",
      "CountryofOrigin_Ethiopia                False       13\n",
      "CountryofOrigin_Uganda                  False       34\n",
      "CountryofOrigin_Indonesia               False       26\n",
      "CountryofOrigin_China                   False       36\n",
      "CountryofOrigin_Vietnam                 False       49\n",
      "CountryofOrigin_Myanmar                 False       45\n",
      "CountryofOrigin_Malawi                  False       40\n",
      "CountryofOrigin_India                   False       48\n",
      "CountryofOrigin_Peru                    False       25\n",
      "Mill                                    False       16\n",
      "Variety_Bourbon                         False       10\n",
      "Variety_Various                         False       17\n",
      "Variety_Caturra                         False        3\n",
      "Variety_SL28                            False       46\n",
      "Variety_Typica                          False       14\n",
      "Variety_Catuai                          False       43\n",
      "Variety_Mundo Novo                      False       35\n",
      "Variety_Catimor                         False       41\n",
      "Variety_Pacamara                        False       24\n",
      "Variety_Yellow Bourbon                  False       38\n",
      "Variety_SL14                            False       28\n",
      "Variety_Pacas                           False       27\n",
      "Variety_Gesha                           False       47\n",
      "Variety_SL34                            False       37\n",
      "ProcessingMethod_Washed                 False        9\n",
      "ProcessingMethod_Other                  False        6\n",
      "ProcessingMethod_Natural                False       23\n",
      "ProcessingMethod_Honey                  False       22\n",
      "altitude_mean_meters                    False        7\n",
      "Aroma                                    True        1\n",
      "Flavor                                   True        1\n",
      "Aftertaste                               True        1\n",
      "Acidity                                  True        1\n",
      "Body                                     True        1\n",
      "Balance                                  True        1\n",
      "Uniformity                               True        1\n",
      "CleanCup                                 True        1\n",
      "Sweetness                                True        1\n",
      "Moisture                                False        5\n",
      "Color_Green                             False       11\n",
      "Color_Blue-Green                        False       15\n",
      "Color_Yellow                            False       12\n",
      "GreenBeansGrade                         False        4\n",
      "TotalCupPoints                           True        1\n",
      "CPU times: total: 2min 28s\n",
      "Wall time: 2min 57s\n"
     ]
    }
   ],
   "source": [
    "%%time\n",
    "selector = RFE(rf, n_features_to_select=10)\n",
    "\n",
    "X0_new = pd.DataFrame(selector.fit_transform(X3, X3['TotalCupPoints']),\n",
    "                     columns=X3.columns.values[selector.get_support()])\n",
    "result = pd.DataFrame(selector.get_support(), index=X3.columns.values, columns=['False: dropped'])\n",
    "result['ranking'] = selector.ranking_\n",
    "print(result)"
   ]
  },
  {
   "cell_type": "code",
   "execution_count": 10,
   "metadata": {
    "id": "tX20pN4EvdMs",
    "tags": []
   },
   "outputs": [],
   "source": [
    "from sklearn.ensemble import RandomForestRegressor"
   ]
  },
  {
   "cell_type": "code",
   "execution_count": 11,
   "metadata": {
    "id": "UuZ6OZXWvjWz",
    "tags": []
   },
   "outputs": [],
   "source": [
    "rf = RandomForestRegressor(n_estimators=1000, random_state=0)"
   ]
  },
  {
   "cell_type": "code",
   "execution_count": 12,
   "metadata": {
    "colab": {
     "base_uri": "https://localhost:8080/"
    },
    "id": "ro0W9rwNTeXF",
    "outputId": "6818155c-b563-44ec-a1b0-0e62701ade9a",
    "tags": []
   },
   "outputs": [
    {
     "name": "stdout",
     "output_type": "stream",
     "text": [
      "                               False: dropped  ranking\n",
      "CountryofOrigin_Guatemala               False       33\n",
      "CountryofOrigin_Colombia                False       32\n",
      "CountryofOrigin_Kenya                   False       42\n",
      "CountryofOrigin_Taiwan                  False       21\n",
      "CountryofOrigin_Other                   False       23\n",
      "CountryofOrigin_Nicaragua               False        5\n",
      "CountryofOrigin_Honduras                False       36\n",
      "CountryofOrigin_Tanzania                False       45\n",
      "CountryofOrigin_Mexico                  False       11\n",
      "CountryofOrigin_Brazil                  False       35\n",
      "CountryofOrigin_United States           False       24\n",
      "CountryofOrigin_Costa Rica              False       22\n",
      "CountryofOrigin_Thailand                False       47\n",
      "CountryofOrigin_El Salvador             False       34\n",
      "CountryofOrigin_Ethiopia                False       16\n",
      "CountryofOrigin_Uganda                  False       37\n",
      "CountryofOrigin_Indonesia               False       29\n",
      "CountryofOrigin_China                   False       39\n",
      "CountryofOrigin_Vietnam                 False       52\n",
      "CountryofOrigin_Myanmar                 False       48\n",
      "CountryofOrigin_Malawi                  False       43\n",
      "CountryofOrigin_India                   False       51\n",
      "CountryofOrigin_Peru                    False       28\n",
      "Mill                                    False       19\n",
      "Variety_Bourbon                         False       13\n",
      "Variety_Various                         False       20\n",
      "Variety_Caturra                         False        6\n",
      "Variety_SL28                            False       49\n",
      "Variety_Typica                          False       17\n",
      "Variety_Catuai                          False       46\n",
      "Variety_Mundo Novo                      False       38\n",
      "Variety_Catimor                         False       44\n",
      "Variety_Pacamara                        False       27\n",
      "Variety_Yellow Bourbon                  False       41\n",
      "Variety_SL14                            False       31\n",
      "Variety_Pacas                           False       30\n",
      "Variety_Gesha                           False       50\n",
      "Variety_SL34                            False       40\n",
      "ProcessingMethod_Washed                 False       12\n",
      "ProcessingMethod_Other                  False        9\n",
      "ProcessingMethod_Natural                False       26\n",
      "ProcessingMethod_Honey                  False       25\n",
      "altitude_mean_meters                    False       10\n",
      "Aroma                                    True        1\n",
      "Flavor                                   True        1\n",
      "Aftertaste                               True        1\n",
      "Acidity                                  True        1\n",
      "Body                                    False        2\n",
      "Balance                                 False        3\n",
      "Uniformity                               True        1\n",
      "CleanCup                                False        4\n",
      "Sweetness                                True        1\n",
      "Moisture                                False        8\n",
      "Color_Green                             False       14\n",
      "Color_Blue-Green                        False       18\n",
      "Color_Yellow                            False       15\n",
      "GreenBeansGrade                         False        7\n",
      "TotalCupPoints                           True        1\n",
      "CPU times: total: 31min 50s\n",
      "Wall time: 33min 3s\n"
     ]
    }
   ],
   "source": [
    "%%time\n",
    "in_features_to_select = 5\n",
    "selector1 = RFECV(rf, min_features_to_select=in_features_to_select, cv=10)\n",
    "\n",
    "X1_new = pd.DataFrame(selector1.fit_transform(X3, X3['TotalCupPoints']),\n",
    "                     columns=X3.columns.values[selector1.get_support()])\n",
    "result = pd.DataFrame(selector1.get_support(), index=X3.columns.values, columns=['False: dropped'])\n",
    "result['ranking'] = selector1.ranking_\n",
    "print(result)"
   ]
  },
  {
   "cell_type": "code",
   "execution_count": 13,
   "metadata": {
    "id": "htAXQW8NUKB9",
    "tags": []
   },
   "outputs": [],
   "source": [
    "plt.style.use('fivethirtyeight')\n",
    "plt.rcParams['figure.figsize'] = [20, 10]\n",
    "plt.rcParams['font.family'] = 'IPAexGothic'\n",
    "sns.set_style(\"whitegrid\")\n",
    "sns.set(rc = {'figure.figsize':(20, 10)})"
   ]
  },
  {
   "cell_type": "code",
   "execution_count": 19,
   "metadata": {
    "id": "o4LqDLOWUETp",
    "tags": []
   },
   "outputs": [
    {
     "data": {
      "image/png": "[encoded data removed]",
      "text/plain": [
       "<Figure size 2000x1000 with 1 Axes>"
      ]
     },
     "metadata": {},
     "output_type": "display_data"
    }
   ],
   "source": [
    "plt.figure()\n",
    "plt.xlabel(\"Number of features selected\")\n",
    "plt.ylabel(\"Regression score \")\n",
    "plt.plot(range(in_features_to_select,\n",
    "               len(selector1.cv_results_[\"mean_test_score\"]) + in_features_to_select),\n",
    "         selector1.cv_results_[\"mean_test_score\"])\n",
    "plt.show()"
   ]
  },
  {
   "cell_type": "code",
   "execution_count": null,
   "metadata": {
    "id": "HNWJ18DeU1pl",
    "tags": []
   },
   "outputs": [],
   "source": [
    "%%time\n",
    "efs1 = EFS(rf, min_features=8, max_features=11, print_progress = True, n_jobs = -1)\n",
    "efs1 = efs1.fit(X3, X3['TotalCupPoints'])\n",
    "\n",
    "print('Best accuracy score: %.2f' % efs1.best_score_)\n",
    "print('Best subset:', efs1.best_feature_names_)"
   ]
  },
  {
   "cell_type": "code",
   "execution_count": null,
   "metadata": {
    "id": "UGM9jNTnVG6X",
    "tags": []
   },
   "outputs": [],
   "source": [
    "df2 = pd.DataFrame.from_dict(efs1.get_metric_dict()).T\n",
    "df2.sort_values('avg_score', inplace=True, ascending=False)\n",
    "\n",
    "df2"
   ]
  },
  {
   "cell_type": "code",
   "execution_count": null,
   "metadata": {
    "id": "TUXMTH39VHTm",
    "tags": []
   },
   "outputs": [],
   "source": [
    "_, ax = plt.subplots(nrows=1, ncols=1)\n",
    "\n",
    "df2.set_index('feature_names', inplace=True) # 一番わかりやすい特徴名をindexに設定(グラフ出力用)\n",
    "df2.head(10).sort_values('avg_score', ascending=True)['avg_score'].plot.barh(ax=ax, grid=True)\n",
    "ax.set_xlim(df2.head(10)['avg_score'].min() * 0.95, df2.head(10)['avg_score'].max() * 1.05)\n",
    "plt.show()"
   ]
  }
 ],
 "metadata": {
  "accelerator": "GPU",
  "colab": {
   "gpuType": "V100",
   "provenance": []
  },
  "kernelspec": {
   "display_name": "Python 3",
   "language": "python",
   "name": "python3"
  },
  "language_info": {
   "codemirror_mode": {
    "name": "ipython",
    "version": 3
   },
   "file_extension": ".py",
   "mimetype": "text/x-python",
   "name": "python",
   "nbconvert_exporter": "python",
   "pygments_lexer": "ipython3",
   "version": "3.11.9"
  }
 },
 "nbformat": 4,
 "nbformat_minor": 4
}
